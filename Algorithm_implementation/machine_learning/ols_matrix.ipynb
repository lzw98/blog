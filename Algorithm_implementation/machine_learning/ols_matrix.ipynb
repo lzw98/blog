{
 "nbformat": 4,
 "nbformat_minor": 2,
 "metadata": {
  "language_info": {
   "name": "python",
   "codemirror_mode": {
    "name": "ipython",
    "version": 3
   },
   "version": "3.7.4-final"
  },
  "orig_nbformat": 2,
  "file_extension": ".py",
  "mimetype": "text/x-python",
  "name": "python",
  "npconvert_exporter": "python",
  "pygments_lexer": "ipython3",
  "version": 3,
  "kernelspec": {
   "name": "python37464bitbaseconda09e93616414f45a185b9f87bf47318ec",
   "display_name": "Python 3.7.4 64-bit ('base': conda)"
  }
 },
 "cells": [
  {
   "cell_type": "markdown",
   "execution_count": null,
   "metadata": {},
   "outputs": [],
   "source": [
    "- consider matrix calculation\n",
    "- m samples, n features, $x_{m\\times n}$,$\\theta_{(n+1)\\times 1}$,$y_{m\\times 1}$"
   ]
  },
  {
   "cell_type": "markdown",
   "execution_count": null,
   "metadata": {},
   "outputs": [],
   "source": [
    "$$\n",
    "\\frac{\\partial J}{\\partial \\theta}=\\frac{1}{2 m}\\left(\\mathrm{x}^{T} \\mathrm{x} \\theta-\\mathrm{x}^{T} \\mathrm{y}\\right)\n",
    "$$\n",
    "$$\n",
    "\\theta_{k+1}=\\theta_{k}+\\alpha \\frac{1}{2 m}\\left(\\mathrm{x}^{T} \\mathrm{x} \\theta-x^{T} \\mathrm{y}\\right)\n",
    "$$"
   ]
  },
  {
   "cell_type": "code",
   "execution_count": 1,
   "metadata": {},
   "outputs": [],
   "source": [
    "import numpy as np \n",
    "import matplotlib as plt\n",
    "import time"
   ]
  },
  {
   "cell_type": "code",
   "execution_count": 2,
   "metadata": {},
   "outputs": [],
   "source": [
    "def exeTime(func):\n",
    "    ''' a decorator for calculating time'''\n",
    "    def newFunc(*args,**keywards):\n",
    "        t0 = time.time()\n",
    "        back = func(*args,**keywards)\n",
    "        return back,time.time()-t0\n",
    "    return newFunc"
   ]
  },
  {
   "cell_type": "code",
   "execution_count": 94,
   "metadata": {},
   "outputs": [],
   "source": [
    "def J(theta,X,y):\n",
    "    m = len(X)\n",
    "    #X_1 = 这里面的数据比较特别将第一列处理为1\n",
    "    return (X*theta-y).T*(X*theta-y)/(2*m)\n",
    "@exeTime\n",
    "def bgd(rate,maxloop,epsilon,X,y):\n",
    "    '''batch gradient descent\n",
    "    args:\n",
    "        rate: learning rate\n",
    "        matxloops: max number of iterations\n",
    "        epsilon: convergence accuracy\n",
    "        X: features\n",
    "        y: labels\n",
    "    return:\n",
    "        (theta,errors,thetas),time elapsed \n",
    "    '''\n",
    "    first_item = (X.T)*X\n",
    "    m,n = X.shape\n",
    "    print(n)\n",
    "    theta = np.ones((n,1))#column vector\n",
    "    count = 0\n",
    "    converged = False\n",
    "    error = float('inf')\n",
    "    errors = []    \n",
    "    while count <= maxloop:\n",
    "        if (converged):\n",
    "            break\n",
    "        count = count + 1\n",
    "        # print(theta)\n",
    "        theta = theta - rate*(first_item*theta-(X.T)*y)\n",
    "        # print(rate*(first_item*theta-(X.T)*y))\n",
    "        error = J(theta,X,y)\n",
    "        errors.append(error[0,0])\n",
    "        if (error<epsilon):\n",
    "            converged = True\n",
    "    return theta,errors\n"
   ]
  },
  {
   "cell_type": "code",
   "execution_count": 95,
   "metadata": {},
   "outputs": [
    {
     "name": "stdout",
     "output_type": "stream",
     "text": "2\nD:\\conda\\lib\\site-packages\\ipykernel_launcher.py:30: RuntimeWarning: invalid value encountered in subtract\nD:\\conda\\lib\\site-packages\\ipykernel_launcher.py:34: RuntimeWarning: invalid value encountered in less\n"
    }
   ],
   "source": [
    "def loadDataSet(filename):\n",
    "    \"\"\" 读取数据\n",
    "\n",
    "    从文件中获取数据，在《机器学习实战中》，数据格式如下\n",
    "    \"feature1 TAB feature2 TAB feature3 TAB label\"\n",
    "\n",
    "    Args:\n",
    "        filename 文件名\n",
    "\n",
    "    Returns:\n",
    "        X 训练样本集矩阵\n",
    "        y 标签集矩阵\n",
    "    \"\"\"\n",
    "    numFeat = (len(open(filename).readline().split('\\t')) - 1)\n",
    "    X = []\n",
    "    y = []\n",
    "    file = open(filename)\n",
    "    for line in file.readlines():\n",
    "        lineArr = []\n",
    "        curLine = line.strip().split('\\t')\n",
    "        for i in range(numFeat):\n",
    "            lineArr.append(float(curLine[i]))\n",
    "        X.append(lineArr)\n",
    "        y.append(float(curLine[-1]))\n",
    "    return np.mat(X), np.mat(y).T\n",
    "# .. indicate its parent's dir\n",
    "X, y =loadDataSet('../mit-ml/linear_regression/data/ex1.txt')\n",
    "m,n = X.shape\n",
    "X = np.concatenate((np.ones((m,1)), X), axis=1)#add one column to X\n",
    "rate = 0.02\n",
    "maxloop = 1500\n",
    "epsilon = 0.01\n",
    "theta,errors = bgd(rate, maxloop,epsilon, X, y)"
   ]
  }
 ]
}