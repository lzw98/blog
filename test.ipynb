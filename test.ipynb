{
 "nbformat": 4,
 "nbformat_minor": 2,
 "metadata": {
  "language_info": {
   "name": "python",
   "codemirror_mode": {
    "name": "ipython",
    "version": 3
   },
   "version": "3.7.5"
  },
  "orig_nbformat": 2,
  "file_extension": ".py",
  "mimetype": "text/x-python",
  "name": "python",
  "npconvert_exporter": "python",
  "pygments_lexer": "ipython3",
  "version": 3
 },
 "cells": [
  {
   "source": [
    "import pandas as pd\n",
    "import numpy as np\n",
    "import re"
   ],
   "cell_type": "code",
   "outputs": [],
   "metadata": {},
   "execution_count": 2
  },
  {
   "source": [
    "fileroecsv = r'C:\\Users\\lzw\\Desktop\\undergraduate_thesis\\rcode\\rcode_undergraduate\\prelimary_code\\data_with_id.csv'\n",
    "df = pd.read_csv(fileroecsv)"
   ],
   "cell_type": "code",
   "outputs": [],
   "metadata": {},
   "execution_count": 3
  },
  {
   "source": [
    "stkcd = 'Stkcd'\n",
    "Y = 'ViolationTypeID'\n",
    "var_nam = ['F010101A','F010201A','F011201A','F012301B','F040401B','F040505C','F041101B','F041705C','F050204C','F053201B','F053301C','F080102A','F080603A','F081103B','F082601B','TopTenHoldersRate']\n",
    "var_nam.insert(0,Y)\n",
    "var_nam.insert(0,stkcd)\n",
    "var_dic = {'偿债能力':['F010101A','F010201A','F011201A','F012301B'],\n",
    "'经营能力':['F040401B','F040505C','F041101B','F041705C'],\n",
    "'盈利能力':['F050204C','F053201B','F053301C'],\n",
    "'发展能力':['F080102A','F080603A','F081103B','F082601B'],\n",
    "'治理结构':['TopTenHoldersRate']}"
   ],
   "cell_type": "code",
   "outputs": [],
   "metadata": {},
   "execution_count": 4
  },
  {
   "source": [
    "pro_data = df[var_nam]"
   ],
   "cell_type": "code",
   "outputs": [],
   "metadata": {},
   "execution_count": 5
  },
  {
   "source": [
    "#得到z-score\n",
    "z_path = r'C:\\Users\\lzw\\Desktop\\undergraduate_thesis\\z_score_2018.xlsx'\n",
    "z_score = pd.read_excel(z_path)"
   ],
   "cell_type": "code",
   "outputs": [],
   "metadata": {},
   "execution_count": 6
  },
  {
   "source": [
    "z_score = z_score.fillna(np.mean(z_score.iloc[:,2]))"
   ],
   "cell_type": "code",
   "outputs": [],
   "metadata": {},
   "execution_count": 7
  },
  {
   "cell_type": "code",
   "execution_count": 23,
   "metadata": {},
   "outputs": [
    {
     "data": {
      "text/html": "<div>\n<style scoped>\n    .dataframe tbody tr th:only-of-type {\n        vertical-align: middle;\n    }\n\n    .dataframe tbody tr th {\n        vertical-align: top;\n    }\n\n    .dataframe thead th {\n        text-align: right;\n    }\n</style>\n<table border=\"1\" class=\"dataframe\">\n  <thead>\n    <tr style=\"text-align: right;\">\n      <th></th>\n      <th>Stkcd</th>\n      <th>ViolationTypeID</th>\n      <th>F010101A</th>\n      <th>F010201A</th>\n      <th>F011201A</th>\n      <th>F012301B</th>\n      <th>F040401B</th>\n      <th>F040505C</th>\n      <th>F041101B</th>\n      <th>F041705C</th>\n      <th>F050204C</th>\n      <th>F053201B</th>\n      <th>F053301C</th>\n      <th>F080102A</th>\n      <th>F080603A</th>\n      <th>F081103B</th>\n      <th>F082601B</th>\n      <th>TopTenHoldersRate</th>\n    </tr>\n  </thead>\n  <tbody>\n    <tr>\n      <th>0</th>\n      <td>2</td>\n      <td>3</td>\n      <td>1.154342</td>\n      <td>0.485571</td>\n      <td>0.845856</td>\n      <td>0.029598</td>\n      <td>2.520506</td>\n      <td>0.276039</td>\n      <td>4.350560</td>\n      <td>0.221000</td>\n      <td>0.036580</td>\n      <td>0.202741</td>\n      <td>0.374816</td>\n      <td>1.262205</td>\n      <td>0.311695</td>\n      <td>0.319078</td>\n      <td>0.190692</td>\n      <td>57.40</td>\n    </tr>\n    <tr>\n      <th>1</th>\n      <td>4</td>\n      <td>2</td>\n      <td>1.805236</td>\n      <td>1.805236</td>\n      <td>0.477966</td>\n      <td>-0.422087</td>\n      <td>0.000000</td>\n      <td>8.960810</td>\n      <td>0.822000</td>\n      <td>1.183406</td>\n      <td>-0.069716</td>\n      <td>-0.144284</td>\n      <td>0.818792</td>\n      <td>0.995842</td>\n      <td>0.306249</td>\n      <td>-3.686165</td>\n      <td>-0.105459</td>\n      <td>53.90</td>\n    </tr>\n    <tr>\n      <th>2</th>\n      <td>5</td>\n      <td>3</td>\n      <td>1.144871</td>\n      <td>0.832409</td>\n      <td>0.494040</td>\n      <td>-0.062164</td>\n      <td>0.985190</td>\n      <td>0.763580</td>\n      <td>3.609766</td>\n      <td>0.161160</td>\n      <td>0.051959</td>\n      <td>0.132320</td>\n      <td>0.297082</td>\n      <td>1.124574</td>\n      <td>0.071881</td>\n      <td>1.974936</td>\n      <td>0.110187</td>\n      <td>32.04</td>\n    </tr>\n    <tr>\n      <th>3</th>\n      <td>6</td>\n      <td>3</td>\n      <td>1.917972</td>\n      <td>0.733976</td>\n      <td>0.528236</td>\n      <td>0.220348</td>\n      <td>2.562671</td>\n      <td>0.229199</td>\n      <td>4.151306</td>\n      <td>0.188318</td>\n      <td>0.069209</td>\n      <td>0.155587</td>\n      <td>0.387866</td>\n      <td>1.118930</td>\n      <td>0.030198</td>\n      <td>0.113265</td>\n      <td>0.115237</td>\n      <td>40.86</td>\n    </tr>\n    <tr>\n      <th>4</th>\n      <td>8</td>\n      <td>3</td>\n      <td>2.032443</td>\n      <td>1.782461</td>\n      <td>0.292510</td>\n      <td>-0.180250</td>\n      <td>0.270103</td>\n      <td>1.881115</td>\n      <td>2.196033</td>\n      <td>0.242605</td>\n      <td>0.032338</td>\n      <td>0.065947</td>\n      <td>0.489184</td>\n      <td>1.030304</td>\n      <td>-0.019849</td>\n      <td>-0.573090</td>\n      <td>0.044294</td>\n      <td>40.42</td>\n    </tr>\n    <tr>\n      <th>...</th>\n      <td>...</td>\n      <td>...</td>\n      <td>...</td>\n      <td>...</td>\n      <td>...</td>\n      <td>...</td>\n      <td>...</td>\n      <td>...</td>\n      <td>...</td>\n      <td>...</td>\n      <td>...</td>\n      <td>...</td>\n      <td>...</td>\n      <td>...</td>\n      <td>...</td>\n      <td>...</td>\n      <td>...</td>\n      <td>...</td>\n    </tr>\n    <tr>\n      <th>3203</th>\n      <td>900929</td>\n      <td>3</td>\n      <td>1.463881</td>\n      <td>1.463365</td>\n      <td>0.403461</td>\n      <td>-0.139804</td>\n      <td>0.000166</td>\n      <td>5487.711212</td>\n      <td>0.471347</td>\n      <td>0.995981</td>\n      <td>0.043548</td>\n      <td>0.130575</td>\n      <td>0.093444</td>\n      <td>0.753248</td>\n      <td>-0.096416</td>\n      <td>0.928894</td>\n      <td>0.041821</td>\n      <td>55.23</td>\n    </tr>\n    <tr>\n      <th>3204</th>\n      <td>900939</td>\n      <td>3</td>\n      <td>2.748386</td>\n      <td>2.748041</td>\n      <td>0.231591</td>\n      <td>0.382066</td>\n      <td>0.000568</td>\n      <td>12.664887</td>\n      <td>4.523822</td>\n      <td>0.134832</td>\n      <td>0.013755</td>\n      <td>0.029398</td>\n      <td>0.678022</td>\n      <td>1.018791</td>\n      <td>0.028523</td>\n      <td>-0.445160</td>\n      <td>0.017970</td>\n      <td>54.21</td>\n    </tr>\n    <tr>\n      <th>3205</th>\n      <td>900948</td>\n      <td>3</td>\n      <td>1.243217</td>\n      <td>1.172493</td>\n      <td>0.549955</td>\n      <td>0.196488</td>\n      <td>0.034223</td>\n      <td>19.017656</td>\n      <td>0.601589</td>\n      <td>0.437543</td>\n      <td>0.057757</td>\n      <td>0.105402</td>\n      <td>0.303943</td>\n      <td>1.135029</td>\n      <td>0.118150</td>\n      <td>-0.109987</td>\n      <td>0.090868</td>\n      <td>73.86</td>\n    </tr>\n    <tr>\n      <th>3206</th>\n      <td>900956</td>\n      <td>3</td>\n      <td>1.136096</td>\n      <td>0.954085</td>\n      <td>0.681102</td>\n      <td>0.065392</td>\n      <td>0.123782</td>\n      <td>6.787582</td>\n      <td>0.772636</td>\n      <td>0.893800</td>\n      <td>0.029020</td>\n      <td>0.094796</td>\n      <td>0.145279</td>\n      <td>1.098012</td>\n      <td>0.033946</td>\n      <td>0.247022</td>\n      <td>0.080075</td>\n      <td>52.67</td>\n    </tr>\n    <tr>\n      <th>3207</th>\n      <td>900957</td>\n      <td>2</td>\n      <td>2.100740</td>\n      <td>2.100740</td>\n      <td>0.551612</td>\n      <td>0.069444</td>\n      <td>0.000000</td>\n      <td>1394.482464</td>\n      <td>1.912686</td>\n      <td>0.104729</td>\n      <td>0.027324</td>\n      <td>0.068251</td>\n      <td>0.474069</td>\n      <td>1.065319</td>\n      <td>-0.012189</td>\n      <td>-0.073737</td>\n      <td>0.065319</td>\n      <td>48.17</td>\n    </tr>\n  </tbody>\n</table>\n<p>3208 rows × 18 columns</p>\n</div>",
      "text/plain": "       Stkcd  ViolationTypeID  F010101A  F010201A  F011201A  F012301B  \\\n0          2                3  1.154342  0.485571  0.845856  0.029598   \n1          4                2  1.805236  1.805236  0.477966 -0.422087   \n2          5                3  1.144871  0.832409  0.494040 -0.062164   \n3          6                3  1.917972  0.733976  0.528236  0.220348   \n4          8                3  2.032443  1.782461  0.292510 -0.180250   \n...      ...              ...       ...       ...       ...       ...   \n3203  900929                3  1.463881  1.463365  0.403461 -0.139804   \n3204  900939                3  2.748386  2.748041  0.231591  0.382066   \n3205  900948                3  1.243217  1.172493  0.549955  0.196488   \n3206  900956                3  1.136096  0.954085  0.681102  0.065392   \n3207  900957                2  2.100740  2.100740  0.551612  0.069444   \n\n      F040401B     F040505C  F041101B  F041705C  F050204C  F053201B  F053301C  \\\n0     2.520506     0.276039  4.350560  0.221000  0.036580  0.202741  0.374816   \n1     0.000000     8.960810  0.822000  1.183406 -0.069716 -0.144284  0.818792   \n2     0.985190     0.763580  3.609766  0.161160  0.051959  0.132320  0.297082   \n3     2.562671     0.229199  4.151306  0.188318  0.069209  0.155587  0.387866   \n4     0.270103     1.881115  2.196033  0.242605  0.032338  0.065947  0.489184   \n...        ...          ...       ...       ...       ...       ...       ...   \n3203  0.000166  5487.711212  0.471347  0.995981  0.043548  0.130575  0.093444   \n3204  0.000568    12.664887  4.523822  0.134832  0.013755  0.029398  0.678022   \n3205  0.034223    19.017656  0.601589  0.437543  0.057757  0.105402  0.303943   \n3206  0.123782     6.787582  0.772636  0.893800  0.029020  0.094796  0.145279   \n3207  0.000000  1394.482464  1.912686  0.104729  0.027324  0.068251  0.474069   \n\n      F080102A  F080603A  F081103B  F082601B  TopTenHoldersRate  \n0     1.262205  0.311695  0.319078  0.190692              57.40  \n1     0.995842  0.306249 -3.686165 -0.105459              53.90  \n2     1.124574  0.071881  1.974936  0.110187              32.04  \n3     1.118930  0.030198  0.113265  0.115237              40.86  \n4     1.030304 -0.019849 -0.573090  0.044294              40.42  \n...        ...       ...       ...       ...                ...  \n3203  0.753248 -0.096416  0.928894  0.041821              55.23  \n3204  1.018791  0.028523 -0.445160  0.017970              54.21  \n3205  1.135029  0.118150 -0.109987  0.090868              73.86  \n3206  1.098012  0.033946  0.247022  0.080075              52.67  \n3207  1.065319 -0.012189 -0.073737  0.065319              48.17  \n\n[3208 rows x 18 columns]"
     },
     "execution_count": 23,
     "metadata": {},
     "output_type": "execute_result"
    }
   ],
   "source": [
    "pro_data"
   ]
  },
  {
   "source": [
    "a = z_score['证券代码'].str.split('.')\n",
    "Stkcd = []\n",
    "for stkcd in a:\n",
    "    Stkcd.append(stkcd[0])\n",
    "z_score['证券代码'] = Stkcd\n",
    "z_score['证券代码'] = z_score['证券代码'].astype('int64')"
   ],
   "cell_type": "code",
   "outputs": [],
   "metadata": {},
   "execution_count": 8
  },
  {
   "cell_type": "code",
   "execution_count": 34,
   "metadata": {},
   "outputs": [
    {
     "data": {
      "text/plain": "Stkcd                int64\nViolationTypeID      int64\nOwnership            int64\nBoard                int64\nIndustryCodeB       object\n                    ...   \nF012301B           float64\nF012401B           float64\nF012501B           float64\nF012601B           float64\nF012701B           float64\nLength: 177, dtype: object"
     },
     "execution_count": 34,
     "metadata": {},
     "output_type": "execute_result"
    }
   ],
   "source": [
    "df.dtypes"
   ]
  },
  {
   "source": [
    "z_score.columns=['Stkcd','name','z_2018']"
   ],
   "cell_type": "code",
   "outputs": [],
   "metadata": {},
   "execution_count": 9
  },
  {
   "source": [
    "pro_data = pro_data.merge(z_score[['Stkcd','z_2018']],on='Stkcd',how='left')"
   ],
   "cell_type": "code",
   "outputs": [],
   "metadata": {},
   "execution_count": 120
  },
  {
   "source": [
    "bd_2017 = r'C:\\Users\\lzw\\Desktop\\bad_debt2017.xlsx'\n",
    "bd_2018 = r'C:\\Users\\lzw\\Desktop\\bad_debt2018.xlsx'\n",
    "bd_2017 = pd.read_excel(bd_2017)\n",
    "bd_2018 = pd.read_excel(bd_2018)"
   ],
   "cell_type": "code",
   "outputs": [],
   "metadata": {},
   "execution_count": 11
  },
  {
   "source": [
    "bd_2017['账龄'] = bd_2017['账龄'].astype('str')\n",
    "bool = bd_2017['账龄'].str.contains('期')\n",
    "a = list(bd_2017[bool]['账龄'].unique())\n",
    "dict1 = []\n",
    "for i in a:\n",
    "    if not re.match(r'[+-]?\\d+$',i):\n",
    "        if '-' not in i:\n",
    "            dict1.append(i.split('年')[0])\n",
    "dict2 = [0.08,0,0.5,1.5,1,0,0,0.5,1.5,1,0.5,1,0,1,5,0.5,1]\n",
    "v = dict(zip(dict1,dict2))\n",
    "\n",
    "bd_2018['账龄'] = bd_2018['账龄'].astype('str')\n",
    "bool = bd_2018['账龄'].str.contains('期')\n",
    "a = list(bd_2018[bool]['账龄'].unique())\n",
    "dict1 = []\n",
    "for i in a:\n",
    "    if '-' not in i:\n",
    "        # print(i)\n",
    "        dict1.append(i.split('年')[0])\n",
    "dict2 = [0.5,0,0.08,1,0,0,0,0.08,0.25,0.5,1,0,0.5,0,0,0,0,0,0,0,0,0,0,0,0.5,1,0,0,1,5,0.5,0.08]\n",
    "v2 = dict(zip(dict1,dict2))\n",
    "\n",
    "def get_year(series,v):\n",
    "    year = []\n",
    "    for item in series.str.split('年'):\n",
    "        if item[0] in list(v.keys()):\n",
    "            year.append(v[item[0]])\n",
    "            continue\n",
    "            #返回为True说明不含有数字\n",
    "        #下面讨论有'-'\n",
    "        else:\n",
    "            #没有期\n",
    "            if '期' not in item[0]:\n",
    "                if '满5' in item[0]:\n",
    "                    year.append(5)\n",
    "                    continue\n",
    "                if '半' in item[0]:\n",
    "                    year.append(0.5)\n",
    "                    continue\n",
    "                if '--' in item[0]:\n",
    "                    medi = item[0].split('--')[1]\n",
    "                    year.append(float(medi))\n",
    "                    continue\n",
    "                # print(item)\n",
    "                year.append(np.mean(np.array(item[0].split('-')).astype('float')))\n",
    "                continue\n",
    "            #有期\n",
    "            if '期' in item[0]:\n",
    "                if '内' in item[0]:\n",
    "                    year.append(0)\n",
    "                    continue\n",
    "                if '未' in item[0]:\n",
    "                    year.append(0)\n",
    "                    continue\n",
    "                if '信用期-1' in item[0]:\n",
    "                    year.append(1)\n",
    "                    continue\n",
    "\n",
    "                else:\n",
    "                    medi = item[0].split('期')[1].split('-')[1]\n",
    "                    year.append(float(medi))\n",
    "                    continue\n",
    "    return year"
   ],
   "cell_type": "code",
   "outputs": [],
   "metadata": {},
   "execution_count": 15
  },
  {
   "source": [
    "year2017 = get_year(bd_2017['账龄'],v)\n",
    "len(year2017)\n",
    "year2018 = get_year(bd_2018['账龄'],v2)\n",
    "len(year2018)"
   ],
   "cell_type": "code",
   "outputs": [
    {
     "output_type": "execute_result",
     "data": {
      "text/plain": "18047"
     },
     "metadata": {},
     "execution_count": 17
    }
   ],
   "metadata": {},
   "execution_count": 17
  },
  {
   "source": [
    "def covert_stkcd(df):\n",
    "    z_score = df\n",
    "    a = z_score['Stkcd'].str.split('.')\n",
    "    Stkcd = []\n",
    "    for stkcd in a:\n",
    "        Stkcd.append(stkcd[0])\n",
    "    z_score['Stkcd'] = Stkcd\n",
    "    z_score['Stkcd'] = z_score['Stkcd'].astype('int64')\n",
    "    return z_score"
   ],
   "cell_type": "code",
   "outputs": [],
   "metadata": {},
   "execution_count": 30
  },
  {
   "source": [
    "bd2018 = bd_2018[['证券代码','应收账款提取比例(%)']]\n",
    "bd2018.columns=['Stkcd','ratio']\n",
    "bd2018['year2018'] = year2018\n",
    "bd2018.drop([20812,20813],inplace=True)\n",
    "bd2018 = covert_stkcd(bd2018)"
   ],
   "cell_type": "code",
   "outputs": [
    {
     "output_type": "stream",
     "name": "stderr",
     "text": "D:\\python\\lib\\site-packages\\ipykernel_launcher.py:3: SettingWithCopyWarning: \nA value is trying to be set on a copy of a slice from a DataFrame.\nTry using .loc[row_indexer,col_indexer] = value instead\n\nSee the caveats in the documentation: http://pandas.pydata.org/pandas-docs/stable/user_guide/indexing.html#returning-a-view-versus-a-copy\n  This is separate from the ipykernel package so we can avoid doing imports until\nD:\\python\\lib\\site-packages\\ipykernel_launcher.py:7: SettingWithCopyWarning: \nA value is trying to be set on a copy of a slice from a DataFrame.\nTry using .loc[row_indexer,col_indexer] = value instead\n\nSee the caveats in the documentation: http://pandas.pydata.org/pandas-docs/stable/user_guide/indexing.html#returning-a-view-versus-a-copy\n  import sys\nD:\\python\\lib\\site-packages\\ipykernel_launcher.py:8: SettingWithCopyWarning: \nA value is trying to be set on a copy of a slice from a DataFrame.\nTry using .loc[row_indexer,col_indexer] = value instead\n\nSee the caveats in the documentation: http://pandas.pydata.org/pandas-docs/stable/user_guide/indexing.html#returning-a-view-versus-a-copy\n  \n"
    }
   ],
   "metadata": {},
   "execution_count": 47
  },
  {
   "source": [
    "bd2017 = bd_2017[['证券代码','应收账款提取比例(%)']]\n",
    "bd2017.columns=['Stkcd','ratio']\n",
    "bd2017['year2017'] = year2017\n",
    "bd2017.drop([18045,18046],inplace=True)\n",
    "bd2017 = covert_stkcd(bd2017)"
   ],
   "cell_type": "code",
   "outputs": [
    {
     "output_type": "stream",
     "name": "stderr",
     "text": "D:\\python\\lib\\site-packages\\ipykernel_launcher.py:3: SettingWithCopyWarning: \nA value is trying to be set on a copy of a slice from a DataFrame.\nTry using .loc[row_indexer,col_indexer] = value instead\n\nSee the caveats in the documentation: http://pandas.pydata.org/pandas-docs/stable/user_guide/indexing.html#returning-a-view-versus-a-copy\n  This is separate from the ipykernel package so we can avoid doing imports until\n"
    }
   ],
   "metadata": {},
   "execution_count": 40
  },
  {
   "source": [
    "df = bd2017"
   ],
   "cell_type": "code",
   "outputs": [],
   "metadata": {},
   "execution_count": 63
  },
  {
   "source": [
    "Stkcd = list(df.groupby('Stkcd').sum().index)\n",
    "sumyear = list(df.groupby('Stkcd').sum()['year2017'])\n",
    "denominator = dict(zip(Stkcd,sumyear))"
   ],
   "cell_type": "code",
   "outputs": [],
   "metadata": {},
   "execution_count": 79
  },
  {
   "source": [
    "proportions = []\n",
    "for index,row in df.iterrows():\n",
    "    y2017 = row['year2017']\n",
    "    st = row['Stkcd']\n",
    "    den = denominator[st]\n",
    "    proportion = y2017/den\n",
    "    proportions.append(proportion)"
   ],
   "cell_type": "code",
   "outputs": [],
   "metadata": {},
   "execution_count": 90
  },
  {
   "source": [
    "df['proportions']=proportions"
   ],
   "cell_type": "code",
   "outputs": [
    {
     "output_type": "stream",
     "name": "stderr",
     "text": "D:\\python\\lib\\site-packages\\ipykernel_launcher.py:1: SettingWithCopyWarning: \nA value is trying to be set on a copy of a slice from a DataFrame.\nTry using .loc[row_indexer,col_indexer] = value instead\n\nSee the caveats in the documentation: http://pandas.pydata.org/pandas-docs/stable/user_guide/indexing.html#returning-a-view-versus-a-copy\n  \"\"\"Entry point for launching an IPython kernel.\n"
    }
   ],
   "metadata": {},
   "execution_count": 92
  },
  {
   "source": [
    "def wavg(group,avg_name,weight_name):\n",
    "    d = group[avg_name]\n",
    "    w = group[weight_name]\n",
    "    try:\n",
    "        return(d*w).sum()/w.sum()\n",
    "    except ZeroDivisionError:\n",
    "        return d.mean()\n",
    "\n",
    "df.groupby('Stkcd').apply(wavg,'ratio','year2017')"
   ],
   "cell_type": "code",
   "outputs": [
    {
     "output_type": "execute_result",
     "data": {
      "text/plain": "Stkcd\n2         16.833333\n4         32.937500\n5          5.000000\n6         49.642857\n7         27.500000\n            ...    \n900952    44.687500\n900953    26.912500\n900955    55.125000\n900956    55.560000\n900957    83.361111\nLength: 3361, dtype: float64"
     },
     "metadata": {},
     "execution_count": 94
    }
   ],
   "metadata": {},
   "execution_count": 94
  },
  {
   "source": [
    "b = pd.DataFrame(bd2018.groupby('Stkcd').apply(wavg,'ratio','year2018'))\n",
    "b.columns = ['bad_debt18']"
   ],
   "cell_type": "code",
   "outputs": [],
   "metadata": {},
   "execution_count": 105
  },
  {
   "source": [
    "a = pd.DataFrame(df.groupby('Stkcd').apply(wavg,'ratio','year2017'))\n",
    "a.columns = ['bad_debt17']"
   ],
   "cell_type": "code",
   "outputs": [],
   "metadata": {},
   "execution_count": 101
  },
  {
   "source": [
    "bd = a.merge(b,left_index = True,right_index = True,how='left')"
   ],
   "cell_type": "code",
   "outputs": [],
   "metadata": {},
   "execution_count": 110
  },
  {
   "source": [
    "bd['bd_ratio'] = (bd['bad_debt18']-bd['bad_debt17'])/bd['bad_debt17']"
   ],
   "cell_type": "code",
   "outputs": [],
   "metadata": {},
   "execution_count": 112
  },
  {
   "source": [
    "bd = bd.fillna(0)"
   ],
   "cell_type": "code",
   "outputs": [],
   "metadata": {},
   "execution_count": 117
  },
  {
   "source": [
    "bd.to_csv(r'C:\\Users\\lzw\\Desktop\\undergraduate_thesis\\bd.csv')"
   ],
   "cell_type": "code",
   "outputs": [],
   "metadata": {},
   "execution_count": 118
  },
  {
   "source": [
    "bd = bd[['bad_debt18','bd_ratio']]\n",
    "pro_data = pro_data.merge(bd,left_on='Stkcd',right_index=True,how='left')"
   ],
   "cell_type": "code",
   "outputs": [],
   "metadata": {},
   "execution_count": 140
  },
  {
   "source": [
    "bd"
   ],
   "cell_type": "code",
   "outputs": [
    {
     "output_type": "execute_result",
     "data": {
      "text/plain": "        bad_debt17  bad_debt18  bd_ratio\nStkcd                                   \n2        16.833333    0.000000    0.0000\n4        32.937500   32.937500    0.0000\n5         5.000000    5.000000    0.0000\n6        49.642857   49.642857    0.0000\n7        27.500000   27.500000    0.0000\n...            ...         ...       ...\n900952   44.687500   44.687500    0.0000\n900953   26.912500   26.912500    0.0000\n900955   55.125000   55.125000    0.0000\n900956   55.560000   55.560000    0.0000\n900957   83.361111   62.562500   -0.2495\n\n[3361 rows x 3 columns]",
      "text/html": "<div>\n<style scoped>\n    .dataframe tbody tr th:only-of-type {\n        vertical-align: middle;\n    }\n\n    .dataframe tbody tr th {\n        vertical-align: top;\n    }\n\n    .dataframe thead th {\n        text-align: right;\n    }\n</style>\n<table border=\"1\" class=\"dataframe\">\n  <thead>\n    <tr style=\"text-align: right;\">\n      <th></th>\n      <th>bad_debt17</th>\n      <th>bad_debt18</th>\n      <th>bd_ratio</th>\n    </tr>\n    <tr>\n      <th>Stkcd</th>\n      <th></th>\n      <th></th>\n      <th></th>\n    </tr>\n  </thead>\n  <tbody>\n    <tr>\n      <th>2</th>\n      <td>16.833333</td>\n      <td>0.000000</td>\n      <td>0.0000</td>\n    </tr>\n    <tr>\n      <th>4</th>\n      <td>32.937500</td>\n      <td>32.937500</td>\n      <td>0.0000</td>\n    </tr>\n    <tr>\n      <th>5</th>\n      <td>5.000000</td>\n      <td>5.000000</td>\n      <td>0.0000</td>\n    </tr>\n    <tr>\n      <th>6</th>\n      <td>49.642857</td>\n      <td>49.642857</td>\n      <td>0.0000</td>\n    </tr>\n    <tr>\n      <th>7</th>\n      <td>27.500000</td>\n      <td>27.500000</td>\n      <td>0.0000</td>\n    </tr>\n    <tr>\n      <th>...</th>\n      <td>...</td>\n      <td>...</td>\n      <td>...</td>\n    </tr>\n    <tr>\n      <th>900952</th>\n      <td>44.687500</td>\n      <td>44.687500</td>\n      <td>0.0000</td>\n    </tr>\n    <tr>\n      <th>900953</th>\n      <td>26.912500</td>\n      <td>26.912500</td>\n      <td>0.0000</td>\n    </tr>\n    <tr>\n      <th>900955</th>\n      <td>55.125000</td>\n      <td>55.125000</td>\n      <td>0.0000</td>\n    </tr>\n    <tr>\n      <th>900956</th>\n      <td>55.560000</td>\n      <td>55.560000</td>\n      <td>0.0000</td>\n    </tr>\n    <tr>\n      <th>900957</th>\n      <td>83.361111</td>\n      <td>62.562500</td>\n      <td>-0.2495</td>\n    </tr>\n  </tbody>\n</table>\n<p>3361 rows × 3 columns</p>\n</div>"
     },
     "metadata": {},
     "execution_count": 122
    }
   ],
   "metadata": {},
   "execution_count": 122
  },
  {
   "source": [
    "#补一下缺失值\n",
    "pro_data = pro_data.fillna(np.mean(pro_data,axis=0))"
   ],
   "cell_type": "code",
   "outputs": [],
   "metadata": {},
   "execution_count": 142
  },
  {
   "source": [
    "pro_data"
   ],
   "cell_type": "code",
   "outputs": [
    {
     "output_type": "execute_result",
     "data": {
      "text/plain": "       Stkcd  ViolationTypeID  F010101A  F010201A  F011201A  F012301B  \\\n0          2                3  1.154342  0.485571  0.845856  0.029598   \n1          4                2  1.805236  1.805236  0.477966 -0.422087   \n2          5                3  1.144871  0.832409  0.494040 -0.062164   \n3          6                3  1.917972  0.733976  0.528236  0.220348   \n4          8                3  2.032443  1.782461  0.292510 -0.180250   \n...      ...              ...       ...       ...       ...       ...   \n3203  900929                3  1.463881  1.463365  0.403461 -0.139804   \n3204  900939                3  2.748386  2.748041  0.231591  0.382066   \n3205  900948                3  1.243217  1.172493  0.549955  0.196488   \n3206  900956                3  1.136096  0.954085  0.681102  0.065392   \n3207  900957                2  2.100740  2.100740  0.551612  0.069444   \n\n      F040401B     F040505C  F041101B  F041705C  ...  F080102A  F080603A  \\\n0     2.520506     0.276039  4.350560  0.221000  ...  1.262205  0.311695   \n1     0.000000     8.960810  0.822000  1.183406  ...  0.995842  0.306249   \n2     0.985190     0.763580  3.609766  0.161160  ...  1.124574  0.071881   \n3     2.562671     0.229199  4.151306  0.188318  ...  1.118930  0.030198   \n4     0.270103     1.881115  2.196033  0.242605  ...  1.030304 -0.019849   \n...        ...          ...       ...       ...  ...       ...       ...   \n3203  0.000166  5487.711212  0.471347  0.995981  ...  0.753248 -0.096416   \n3204  0.000568    12.664887  4.523822  0.134832  ...  1.018791  0.028523   \n3205  0.034223    19.017656  0.601589  0.437543  ...  1.135029  0.118150   \n3206  0.123782     6.787582  0.772636  0.893800  ...  1.098012  0.033946   \n3207  0.000000  1394.482464  1.912686  0.104729  ...  1.065319 -0.012189   \n\n      F081103B  F082601B  TopTenHoldersRate   z_2018  bad_debt18_x  \\\n0     0.319078  0.190692              57.40   0.6669      0.000000   \n1    -3.686165 -0.105459              53.90   6.1534     32.937500   \n2     1.974936  0.110187              32.04   1.4972      5.000000   \n3     0.113265  0.115237              40.86   1.9481     49.642857   \n4    -0.573090  0.044294              40.42   3.1064     61.724986   \n...        ...       ...                ...      ...           ...   \n3203  0.928894  0.041821              55.23   3.6079      0.000000   \n3204 -0.445160  0.017970              54.21  23.7455     57.812500   \n3205 -0.109987  0.090868              73.86   1.4230      0.000000   \n3206  0.247022  0.080075              52.67   1.6780     55.560000   \n3207 -0.073737  0.065319              48.17   1.9012     62.562500   \n\n      bd_ratio_x  bad_debt18_y  bd_ratio_y  \n0        0.00000      0.000000     0.00000  \n1        0.00000     32.937500     0.00000  \n2        0.00000      5.000000     0.00000  \n3        0.00000     49.642857     0.00000  \n4       -0.01677     61.724986    -0.01677  \n...          ...           ...         ...  \n3203     0.00000           NaN         NaN  \n3204     0.00000     57.812500     0.00000  \n3205     0.00000           NaN         NaN  \n3206     0.00000     55.560000     0.00000  \n3207    -0.24950     62.562500    -0.24950  \n\n[3208 rows x 23 columns]",
      "text/html": "<div>\n<style scoped>\n    .dataframe tbody tr th:only-of-type {\n        vertical-align: middle;\n    }\n\n    .dataframe tbody tr th {\n        vertical-align: top;\n    }\n\n    .dataframe thead th {\n        text-align: right;\n    }\n</style>\n<table border=\"1\" class=\"dataframe\">\n  <thead>\n    <tr style=\"text-align: right;\">\n      <th></th>\n      <th>Stkcd</th>\n      <th>ViolationTypeID</th>\n      <th>F010101A</th>\n      <th>F010201A</th>\n      <th>F011201A</th>\n      <th>F012301B</th>\n      <th>F040401B</th>\n      <th>F040505C</th>\n      <th>F041101B</th>\n      <th>F041705C</th>\n      <th>...</th>\n      <th>F080102A</th>\n      <th>F080603A</th>\n      <th>F081103B</th>\n      <th>F082601B</th>\n      <th>TopTenHoldersRate</th>\n      <th>z_2018</th>\n      <th>bad_debt18_x</th>\n      <th>bd_ratio_x</th>\n      <th>bad_debt18_y</th>\n      <th>bd_ratio_y</th>\n    </tr>\n  </thead>\n  <tbody>\n    <tr>\n      <th>0</th>\n      <td>2</td>\n      <td>3</td>\n      <td>1.154342</td>\n      <td>0.485571</td>\n      <td>0.845856</td>\n      <td>0.029598</td>\n      <td>2.520506</td>\n      <td>0.276039</td>\n      <td>4.350560</td>\n      <td>0.221000</td>\n      <td>...</td>\n      <td>1.262205</td>\n      <td>0.311695</td>\n      <td>0.319078</td>\n      <td>0.190692</td>\n      <td>57.40</td>\n      <td>0.6669</td>\n      <td>0.000000</td>\n      <td>0.00000</td>\n      <td>0.000000</td>\n      <td>0.00000</td>\n    </tr>\n    <tr>\n      <th>1</th>\n      <td>4</td>\n      <td>2</td>\n      <td>1.805236</td>\n      <td>1.805236</td>\n      <td>0.477966</td>\n      <td>-0.422087</td>\n      <td>0.000000</td>\n      <td>8.960810</td>\n      <td>0.822000</td>\n      <td>1.183406</td>\n      <td>...</td>\n      <td>0.995842</td>\n      <td>0.306249</td>\n      <td>-3.686165</td>\n      <td>-0.105459</td>\n      <td>53.90</td>\n      <td>6.1534</td>\n      <td>32.937500</td>\n      <td>0.00000</td>\n      <td>32.937500</td>\n      <td>0.00000</td>\n    </tr>\n    <tr>\n      <th>2</th>\n      <td>5</td>\n      <td>3</td>\n      <td>1.144871</td>\n      <td>0.832409</td>\n      <td>0.494040</td>\n      <td>-0.062164</td>\n      <td>0.985190</td>\n      <td>0.763580</td>\n      <td>3.609766</td>\n      <td>0.161160</td>\n      <td>...</td>\n      <td>1.124574</td>\n      <td>0.071881</td>\n      <td>1.974936</td>\n      <td>0.110187</td>\n      <td>32.04</td>\n      <td>1.4972</td>\n      <td>5.000000</td>\n      <td>0.00000</td>\n      <td>5.000000</td>\n      <td>0.00000</td>\n    </tr>\n    <tr>\n      <th>3</th>\n      <td>6</td>\n      <td>3</td>\n      <td>1.917972</td>\n      <td>0.733976</td>\n      <td>0.528236</td>\n      <td>0.220348</td>\n      <td>2.562671</td>\n      <td>0.229199</td>\n      <td>4.151306</td>\n      <td>0.188318</td>\n      <td>...</td>\n      <td>1.118930</td>\n      <td>0.030198</td>\n      <td>0.113265</td>\n      <td>0.115237</td>\n      <td>40.86</td>\n      <td>1.9481</td>\n      <td>49.642857</td>\n      <td>0.00000</td>\n      <td>49.642857</td>\n      <td>0.00000</td>\n    </tr>\n    <tr>\n      <th>4</th>\n      <td>8</td>\n      <td>3</td>\n      <td>2.032443</td>\n      <td>1.782461</td>\n      <td>0.292510</td>\n      <td>-0.180250</td>\n      <td>0.270103</td>\n      <td>1.881115</td>\n      <td>2.196033</td>\n      <td>0.242605</td>\n      <td>...</td>\n      <td>1.030304</td>\n      <td>-0.019849</td>\n      <td>-0.573090</td>\n      <td>0.044294</td>\n      <td>40.42</td>\n      <td>3.1064</td>\n      <td>61.724986</td>\n      <td>-0.01677</td>\n      <td>61.724986</td>\n      <td>-0.01677</td>\n    </tr>\n    <tr>\n      <th>...</th>\n      <td>...</td>\n      <td>...</td>\n      <td>...</td>\n      <td>...</td>\n      <td>...</td>\n      <td>...</td>\n      <td>...</td>\n      <td>...</td>\n      <td>...</td>\n      <td>...</td>\n      <td>...</td>\n      <td>...</td>\n      <td>...</td>\n      <td>...</td>\n      <td>...</td>\n      <td>...</td>\n      <td>...</td>\n      <td>...</td>\n      <td>...</td>\n      <td>...</td>\n      <td>...</td>\n    </tr>\n    <tr>\n      <th>3203</th>\n      <td>900929</td>\n      <td>3</td>\n      <td>1.463881</td>\n      <td>1.463365</td>\n      <td>0.403461</td>\n      <td>-0.139804</td>\n      <td>0.000166</td>\n      <td>5487.711212</td>\n      <td>0.471347</td>\n      <td>0.995981</td>\n      <td>...</td>\n      <td>0.753248</td>\n      <td>-0.096416</td>\n      <td>0.928894</td>\n      <td>0.041821</td>\n      <td>55.23</td>\n      <td>3.6079</td>\n      <td>0.000000</td>\n      <td>0.00000</td>\n      <td>NaN</td>\n      <td>NaN</td>\n    </tr>\n    <tr>\n      <th>3204</th>\n      <td>900939</td>\n      <td>3</td>\n      <td>2.748386</td>\n      <td>2.748041</td>\n      <td>0.231591</td>\n      <td>0.382066</td>\n      <td>0.000568</td>\n      <td>12.664887</td>\n      <td>4.523822</td>\n      <td>0.134832</td>\n      <td>...</td>\n      <td>1.018791</td>\n      <td>0.028523</td>\n      <td>-0.445160</td>\n      <td>0.017970</td>\n      <td>54.21</td>\n      <td>23.7455</td>\n      <td>57.812500</td>\n      <td>0.00000</td>\n      <td>57.812500</td>\n      <td>0.00000</td>\n    </tr>\n    <tr>\n      <th>3205</th>\n      <td>900948</td>\n      <td>3</td>\n      <td>1.243217</td>\n      <td>1.172493</td>\n      <td>0.549955</td>\n      <td>0.196488</td>\n      <td>0.034223</td>\n      <td>19.017656</td>\n      <td>0.601589</td>\n      <td>0.437543</td>\n      <td>...</td>\n      <td>1.135029</td>\n      <td>0.118150</td>\n      <td>-0.109987</td>\n      <td>0.090868</td>\n      <td>73.86</td>\n      <td>1.4230</td>\n      <td>0.000000</td>\n      <td>0.00000</td>\n      <td>NaN</td>\n      <td>NaN</td>\n    </tr>\n    <tr>\n      <th>3206</th>\n      <td>900956</td>\n      <td>3</td>\n      <td>1.136096</td>\n      <td>0.954085</td>\n      <td>0.681102</td>\n      <td>0.065392</td>\n      <td>0.123782</td>\n      <td>6.787582</td>\n      <td>0.772636</td>\n      <td>0.893800</td>\n      <td>...</td>\n      <td>1.098012</td>\n      <td>0.033946</td>\n      <td>0.247022</td>\n      <td>0.080075</td>\n      <td>52.67</td>\n      <td>1.6780</td>\n      <td>55.560000</td>\n      <td>0.00000</td>\n      <td>55.560000</td>\n      <td>0.00000</td>\n    </tr>\n    <tr>\n      <th>3207</th>\n      <td>900957</td>\n      <td>2</td>\n      <td>2.100740</td>\n      <td>2.100740</td>\n      <td>0.551612</td>\n      <td>0.069444</td>\n      <td>0.000000</td>\n      <td>1394.482464</td>\n      <td>1.912686</td>\n      <td>0.104729</td>\n      <td>...</td>\n      <td>1.065319</td>\n      <td>-0.012189</td>\n      <td>-0.073737</td>\n      <td>0.065319</td>\n      <td>48.17</td>\n      <td>1.9012</td>\n      <td>62.562500</td>\n      <td>-0.24950</td>\n      <td>62.562500</td>\n      <td>-0.24950</td>\n    </tr>\n  </tbody>\n</table>\n<p>3208 rows × 23 columns</p>\n</div>"
     },
     "metadata": {},
     "execution_count": 141
    }
   ],
   "metadata": {},
   "execution_count": 141
  },
  {
   "source": [
    "pro_data.to_csv(r'C:\\Users\\lzw\\Desktop\\undergraduate_thesis\\data_with_id.csv')"
   ],
   "cell_type": "code",
   "outputs": [],
   "metadata": {},
   "execution_count": 144
  },
  {
   "cell_type": "code",
   "execution_count": null,
   "metadata": {},
   "outputs": [],
   "source": []
  },
  {
   "cell_type": "code",
   "execution_count": null,
   "metadata": {},
   "outputs": [],
   "source": []
  },
  {
   "cell_type": "code",
   "execution_count": null,
   "metadata": {},
   "outputs": [],
   "source": []
  },
  {
   "source": [
    "bd2018['year2018'].unique().max()\n",
    "bd2018['year2018'].unique().min()"
   ],
   "cell_type": "code",
   "outputs": [
    {
     "output_type": "execute_result",
     "data": {
      "text/plain": "0.0"
     },
     "metadata": {},
     "execution_count": 51
    }
   ],
   "metadata": {},
   "execution_count": 51
  }
 ]
}